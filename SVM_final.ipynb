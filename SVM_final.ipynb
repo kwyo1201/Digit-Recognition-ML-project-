{
  "nbformat": 4,
  "nbformat_minor": 0,
  "metadata": {
    "colab": {
      "provenance": []
    },
    "kernelspec": {
      "name": "python3",
      "display_name": "Python 3"
    },
    "language_info": {
      "name": "python"
    }
  },
  "cells": [
    {
      "cell_type": "code",
      "execution_count": 2,
      "metadata": {
        "id": "miON_A_lW64f"
      },
      "outputs": [],
      "source": [
        "#IMPORTS\n",
        "import numpy as np\n",
        "import pandas as pd\n",
        "import sklearn\n",
        "import matplotlib.pyplot as plt\n",
        "import seaborn as sns\n",
        "from sklearn import svm\n",
        "from sklearn.model_selection import train_test_split\n",
        "from sklearn.datasets import load_digits\n",
        "from sklearn.metrics import confusion_matrix\n",
        "from sklearn.metrics import recall_score\n",
        "from sklearn.metrics import precision_score\n",
        "from sklearn.metrics import f1_score"
      ]
    },
    {
      "cell_type": "code",
      "source": [
        "#SVM KERNEL TESTING/COMPARISON\n",
        "\n",
        "mnist = load_digits() #this is the full set with all labels\n",
        "X_train, X_test, y_train, y_test = train_test_split(mnist.data, mnist.target, test_size=0.25, random_state=0)\n",
        "\n",
        "kernelAccuracyDict = {\"linear\" : 0, \"poly\" : 0, \"rbf\" : 0, \"sigmoid\" : 0}\n",
        "\n",
        "for key in kernelAccuracyDict.keys():\n",
        "    kernel_test_clf = svm.SVC(probability=True,kernel=key).fit(X_train,y_train)\n",
        "    y_pred = kernel_test_clf.predict(X_test)\n",
        "    kernelAccuracyDict[key] = sklearn.metrics.accuracy_score(y_test, y_pred)\n",
        "print(kernelAccuracyDict)\n",
        "maxAccuracyKernel = max(kernelAccuracyDict, key=lambda key: kernelAccuracyDict[key])\n",
        "print(\"Best Kernel Accuracy - \",maxAccuracyKernel,kernelAccuracyDict[maxAccuracyKernel])\n",
        "\n",
        "#Optimize Gamma and C simultaneously\n",
        "gammaList = [1.0,.01,.001,.0001]\n",
        "cList = [.001,.01,1.0,10,100]\n",
        "bestScore = {\"gamma\":0,\"C\":0,\"accuracy\":0}\n",
        "\n",
        "for gamma in gammaList:\n",
        "    for c in cList:\n",
        "        test_clf = svm.SVC(kernel=maxAccuracyKernel, gamma = gamma, C = c).fit(X_train,y_train)\n",
        "        y_pred = test_clf.predict(X_test)\n",
        "        #print(sklearn.metrics.accuracy_score(y_test,y_pred))\n",
        "        if(sklearn.metrics.accuracy_score(y_test, y_pred) > bestScore[\"accuracy\"]):\n",
        "            bestScore[\"gamma\"] = gamma\n",
        "            bestScore[\"C\"] = c\n",
        "            bestScore[\"accuracy\"] = sklearn.metrics.accuracy_score(y_test, y_pred)\n",
        "\n",
        "test = svm.SVC(probability=True,kernel=maxAccuracyKernel, gamma = 1 / (783 * X_train.var()), C = 1.0).fit(X_train,y_train)\n",
        "y_pred = test.predict(X_test)\n",
        "print(\"Accuracy of default C and gamma:\",sklearn.metrics.accuracy_score(y_test, y_pred))\n",
        "\n",
        "print(bestScore)\n"
      ],
      "metadata": {
        "id": "7JTpir3aW82Q"
      },
      "execution_count": null,
      "outputs": []
    },
    {
      "cell_type": "code",
      "source": [
        "#IMPORT AND VECTORIZE NEW DATASET\n",
        "\n",
        "path = './custom_dataset/'\n",
        "import os\n",
        "import cv2\n",
        "\n",
        "dir_list = os.listdir(path)\n",
        "\n",
        "target = [0,1,2,3,4,5,6,7,8,9]\n",
        "\n",
        "labels = pd.Series([])\n",
        "\n",
        "for i in range(0,len(dir_list)):\n",
        "    label = pd.Series([target[i % 10]])\n",
        "    labels = pd.concat([labels,label])\n",
        "\n",
        "column_names = []\n",
        "[column_names.append(\"pixel\"+str(x)) for x in range(0, 784)]\n",
        "\n",
        "print(column_names)\n",
        "i = 0\n",
        "custom_dataset = pd.DataFrame(columns=column_names)\n",
        "for imagePath in dir_list:\n",
        "    image = cv2.imread(path+imagePath)\n",
        "    grey_image = cv2.cvtColor(image, cv2.COLOR_BGR2GRAY)\n",
        "    flattened = grey_image.flatten()\n",
        "\n",
        "    custom_dataset.loc[i] = flattened\n",
        "    i += 1\n",
        "\n",
        "custom_dataset_labeled = custom_dataset.assign(label=labels.reset_index(drop=True))\n",
        "\n",
        "train, test = train_test_split(custom_dataset_labeled, test_size=0.2, random_state=42, shuffle=True)\n",
        "X_train_custom = train.loc[:,:'label']\n",
        "X_test_custom = test.loc[:,:'label']\n",
        "y_train_custom = train.loc[:,'label']\n",
        "y_test_custom = test.loc[:,'label']"
      ],
      "metadata": {
        "id": "n7iApJDPXGaF"
      },
      "execution_count": null,
      "outputs": []
    },
    {
      "cell_type": "code",
      "source": [
        "#MAIN SVM IMPLEMENTATION\n",
        "\n",
        "class RBFKernel:\n",
        "    def __init__(self, gamma = .001):\n",
        "        self.gamma = gamma\n",
        "\n",
        "    def __call__(self, x, y):\n",
        "        return np.exp(-self.gamma * np.linalg.norm(x - y) ** 2)\n",
        "\n",
        "class RBF_SVM_Classifier:\n",
        "    def __init__(self, alpha=.001,lambda_=.001, max_iter=1000, kernel=RBFKernel(gamma=0.01)):\n",
        "        self.max_iter = max_iter\n",
        "        self.kernel = kernel\n",
        "        self.alpha = alpha\n",
        "        self.lambda_ = lambda_\n",
        "\n",
        "    def fit(self, X, y):\n",
        "        n_samples, n_features = X.shape\n",
        "        self.w = np.zeros(n_features)\n",
        "        self.b = 0\n",
        "\n",
        "        for iteration in range(self.max_iter):\n",
        "            for i, Xi in enumerate(X):\n",
        "                if y[i] * (np.dot(Xi, self.w) - self.b) >= 1 :\n",
        "                    self.w -= self.alpha * (2 * self.lambda_ * self.w)\n",
        "                else:\n",
        "                    self.w -= self.alpha * (2 * self.lambda_ * self.w - np.dot(Xi, y[i]))\n",
        "                    self.b -= self.alpha * y[i]\n",
        "        return self.w, self.b\n",
        "\n",
        "\n",
        "    def predict(self, X):\n",
        "        pred = np.dot(X, self.w) - self.b\n",
        "        result = [1 if val > 0 else -1 for val in pred]\n",
        "        return result\n",
        "\n",
        "class MulticlassSVM:\n",
        "    def __init__(self, alpha=.001, lambda_=.001, max_iter=500, kernel=RBFKernel(gamma=0.001)):\n",
        "        self.alpha = alpha\n",
        "        self.lambda_ = lambda_\n",
        "        self.max_iter = max_iter\n",
        "        self.kernel = kernel\n",
        "        self.classifiers = {}\n",
        "\n",
        "    def fit(self, X, y):\n",
        "        numbers = np.unique(y)\n",
        "        for i, number in enumerate(numbers):\n",
        "            binary_y = np.where(y == number, 1, -1)\n",
        "            svm = RBF_SVM_Classifier(alpha=self.alpha, lambda_=self.lambda_, max_iter=self.max_iter, kernel=self.kernel)\n",
        "            svm.fit(X, binary_y)\n",
        "            self.classifiers[number] = svm\n",
        "\n",
        "    def predict(self, X):\n",
        "        predictions = []\n",
        "        for label, classifier in self.classifiers.items():\n",
        "            predictions.append(classifier.predict(X))\n",
        "        predictions = np.array(predictions)\n",
        "        return np.argmax(predictions, axis=0)\n",
        "\n",
        "\n",
        "from sklearn.metrics import accuracy_score\n",
        "mnist = load_digits() #this is the full set with all labels\n",
        "X_train, X_test, y_train, y_test = train_test_split(mnist.data, mnist.target, test_size=0.25, random_state=0)\n",
        "\n",
        "#Defaults\n",
        "print(\"Defaults\")\n",
        "model = MulticlassSVM()\n",
        "model.fit(X_train, y_train)\n",
        "y_pred_train = model.predict(X_train)\n",
        "y_pred_test = model.predict(X_test)\n",
        "print(\"Train Accuracy:\",accuracy_score(y_train,y_pred_train))\n",
        "print(\"Test Accuracy:\",accuracy_score(y_test,y_pred_test))"
      ],
      "metadata": {
        "colab": {
          "base_uri": "https://localhost:8080/"
        },
        "id": "VyJCdVwMXTh8",
        "outputId": "a1e91a59-b9b2-422e-bae9-5e939abe3f59"
      },
      "execution_count": 3,
      "outputs": [
        {
          "output_type": "stream",
          "name": "stdout",
          "text": [
            "Defaults\n",
            "Train Accuracy: 0.9480326651818857\n",
            "Test Accuracy: 0.8733333333333333\n"
          ]
        }
      ]
    },
    {
      "cell_type": "code",
      "source": [
        "#SVM Parameter Testing\n",
        "\n",
        "lambdaList = [.000001,.00001,.0001,.001,.1]\n",
        "alphaList = [.000001,.00001,.0001,.001,.1]\n",
        "gammaList = [.000001,.00001,.0001,.001,.1]\n",
        "\n",
        "bestScore = {\"lambda\":0,\"alpha\":0,\"gamma:\":0,\"accuracy\":0}\n",
        "\n",
        "y_axis = []\n",
        "for lam in lambdaList:\n",
        "    test_clf = MulticlassSVM(lambda_=lam)\n",
        "    test_clf.fit(X_train,y_train)\n",
        "    y_pred_comparison = test_clf.predict(X_test)\n",
        "    y_axis.append(sklearn.metrics.accuracy_score(y_test,y_pred_comparison))\n",
        "plt.plot(lambdaList, y_axis)\n",
        "plt.title(\"Accuracy of Given Lambda\")\n",
        "plt.xlabel(\"Lambda\")\n",
        "plt.ylabel(\"Test Accuracy\")\n",
        "plt.xlim([1e-6, .1])\n",
        "plt.show()\n",
        "\n",
        "y_axis = []\n",
        "for alpha in alphaList:\n",
        "    test_clf = MulticlassSVM(alpha=alpha)\n",
        "    test_clf.fit(X_train,y_train)\n",
        "    y_pred_comparison = test_clf.predict(X_test)\n",
        "    y_axis.append(sklearn.metrics.accuracy_score(y_test,y_pred_comparison))\n",
        "plt.plot(lambdaList, y_axis)\n",
        "plt.title(\"Accuracy of Given Alpha\")\n",
        "plt.xlabel(\"Alpha\")\n",
        "plt.ylabel(\"Test Accuracy\")\n",
        "plt.xlim([1e-6, .1])\n",
        "plt.show()\n",
        "\n",
        "y_axis = []\n",
        "for gamma in gammaList:\n",
        "    test_clf = MulticlassSVM(kernel=RBFKernel(gamma=gamma))\n",
        "    test_clf.fit(X_train,y_train)\n",
        "    y_pred_comparison = test_clf.predict(X_test)\n",
        "    y_axis.append(sklearn.metrics.accuracy_score(y_test,y_pred_comparison))\n",
        "plt.plot(lambdaList, y_axis)\n",
        "plt.title(\"Accuracy of Given Gamma\")\n",
        "plt.xlabel(\"Gamma\")\n",
        "plt.ylabel(\"Test Accuracy\")\n",
        "plt.xlim([1e-6, .1])\n",
        "plt.show()\n",
        "\n",
        "for lam in lambdaList:\n",
        "    for alpha in alphaList:\n",
        "        for gamma in gammaList:\n",
        "            test_clf = MulticlassSVM(lambda_ = lam, alpha = alpha,kernel=RBFKernel(gamma=gamma))\n",
        "            test_clf.fit(X_train,y_train)\n",
        "            y_pred_comparison = test_clf.predict(X_test)\n",
        "            print(\"lambda:\",lam,\"alpha:\",alpha,\"gamma:\",gamma,\"Test Accuracy:\",sklearn.metrics.accuracy_score(y_test,y_pred_comparison))\n",
        "            if(sklearn.metrics.accuracy_score(y_test, y_pred_comparison) > bestScore[\"accuracy\"]):\n",
        "                bestScore[\"lambda\"] = lam\n",
        "                bestScore[\"alpha\"] = alpha\n",
        "                bestScore[\"accuracy\"] = sklearn.metrics.accuracy_score(y_test, y_pred_comparison)\n",
        "\n",
        "print(bestScore)"
      ],
      "metadata": {
        "id": "U4FFP500bLIk"
      },
      "execution_count": null,
      "outputs": []
    },
    {
      "cell_type": "code",
      "source": [
        "#Other Metrics\n",
        "\n",
        "print(\"Recall:\",recall_score(y_test,y_pred_test,average=\"macro\"))\n",
        "print(\"Precision:\",precision_score(y_test,y_pred_test,average=\"macro\"))\n",
        "print(\"F1 Score:\",f1_score(y_test,y_pred_test,average=\"macro\"))\n",
        "confusionMatrix = (confusion_matrix(y_test,y_pred_test))\n",
        "print(sns.heatmap(confusionMatrix, annot=True,cmap=\"Blues\"))"
      ],
      "metadata": {
        "colab": {
          "base_uri": "https://localhost:8080/",
          "height": 508
        },
        "id": "M8nLwMxRa7nt",
        "outputId": "4c973f23-c816-40fc-e8dc-b009554bdb29"
      },
      "execution_count": 4,
      "outputs": [
        {
          "output_type": "stream",
          "name": "stdout",
          "text": [
            "Recall: 0.8777149361022639\n",
            "Precision: 0.900567856329516\n",
            "F1 Score: 0.8755082409181473\n",
            "Axes(0.125,0.11;0.62x0.77)\n"
          ]
        },
        {
          "output_type": "display_data",
          "data": {
            "text/plain": [
              "<Figure size 640x480 with 2 Axes>"
            ],
            "image/png": "[encoded data removed]"
          },
          "metadata": {}
        }
      ]
    }
  ]
}