{
  "nbformat": 4,
  "nbformat_minor": 0,
  "metadata": {
    "colab": {
      "provenance": []
    },
    "kernelspec": {
      "name": "python3",
      "display_name": "Python 3"
    },
    "language_info": {
      "name": "python"
    }
  },
  "cells": [
    {
      "cell_type": "code",
      "execution_count": 15,
      "metadata": {
        "id": "4nUehIG-YQVx"
      },
      "outputs": [],
      "source": [
        "#IMPORTS\n",
        "import numpy as np\n",
        "import pandas as pd\n",
        "import sklearn\n",
        "import matplotlib.pyplot as plt\n",
        "import seaborn as sns\n",
        "import math\n",
        "import numpy as np\n",
        "from sklearn.metrics import accuracy_score\n",
        "from sklearn.model_selection import train_test_split\n",
        "from sklearn.datasets import load_digits\n",
        "from sklearn.metrics import confusion_matrix\n",
        "from sklearn.metrics import recall_score\n",
        "from sklearn.metrics import precision_score\n",
        "from sklearn.metrics import f1_score"
      ]
    },
    {
      "cell_type": "code",
      "source": [
        "#IMPORT AND VECTORIZE NEW DATASET\n",
        "\n",
        "path = './custom_dataset/'\n",
        "import os\n",
        "import cv2\n",
        "\n",
        "dir_list = os.listdir(path)\n",
        "\n",
        "target = [0,1,2,3,4,5,6,7,8,9]\n",
        "\n",
        "labels = pd.Series([])\n",
        "\n",
        "for i in range(0,len(dir_list)):\n",
        "    label = pd.Series([target[i % 10]])\n",
        "    labels = pd.concat([labels,label])\n",
        "\n",
        "column_names = []\n",
        "[column_names.append(\"pixel\"+str(x)) for x in range(0, 784)]\n",
        "\n",
        "print(column_names)\n",
        "i = 0\n",
        "custom_dataset = pd.DataFrame(columns=column_names)\n",
        "for imagePath in dir_list:\n",
        "    image = cv2.imread(path+imagePath)\n",
        "    grey_image = cv2.cvtColor(image, cv2.COLOR_BGR2GRAY)\n",
        "    flattened = grey_image.flatten()\n",
        "\n",
        "    custom_dataset.loc[i] = flattened\n",
        "    i += 1\n",
        "\n",
        "custom_dataset_labeled = custom_dataset.assign(label=labels.reset_index(drop=True))\n",
        "\n",
        "train, test = train_test_split(custom_dataset_labeled, test_size=0.2, random_state=42, shuffle=True)\n",
        "X_train_custom = train.loc[:,:'label']\n",
        "X_test_custom = test.loc[:,:'label']\n",
        "y_train_custom = train.loc[:,'label']\n",
        "y_test_custom = test.loc[:,'label']"
      ],
      "metadata": {
        "id": "zjoULV-dYT67"
      },
      "execution_count": null,
      "outputs": []
    },
    {
      "cell_type": "code",
      "source": [
        "# BOOSTING IMPLEMENTATION\n",
        "\n",
        "class AdaBoost():\n",
        "    def __init__(self, num_iter=500):\n",
        "        self.num_iter = num_iter\n",
        "        self.stumps = []\n",
        "        self.train_error = []\n",
        "        self.alpha_list = []\n",
        "\n",
        "    def calculate_error(self, y, y_pred, w):\n",
        "        err = (sum(w * (np.not_equal(y, y_pred)).astype(int)))/sum(w)\n",
        "        return err\n",
        "\n",
        "    def update_weights(self, alpha, w, y, y_pred):\n",
        "        w = w * np.exp(alpha * (np.not_equal(y, y_pred)).astype(int))\n",
        "        return w\n",
        "\n",
        "    def calculate_alpha(self, err):\n",
        "        return np.log((1-err) / err)\n",
        "\n",
        "    def fit(self, X, y):\n",
        "        for i in range(self.num_iter):\n",
        "            if i == 0:\n",
        "                w = np.ones(len(y)) * (1 / len(y))\n",
        "            else:\n",
        "                w = self.update_weights(alpha, w, y, y_pred)\n",
        "\n",
        "            base_clf = DecisionTreeClassifier(max_depth=1)\n",
        "\n",
        "            base_clf.fit(X, y, sample_weight=w)\n",
        "            y_pred = base_clf.predict(X)\n",
        "\n",
        "            self.stumps.append(base_clf)\n",
        "\n",
        "            err = self.calculate_error(y, y_pred, w)\n",
        "            self.train_error.append(err)\n",
        "\n",
        "            alpha = self.calculate_alpha(err)\n",
        "            self.alpha_list.append(alpha)\n",
        "        return True\n",
        "\n",
        "    def predict(self, X):\n",
        "        #store preds\n",
        "        df_weak = pd.DataFrame(index=range(len(X)), columns=range(self.num_iter))\n",
        "        for i in range(self.num_iter):\n",
        "            y_pred = self.stumps[i].predict(X) * self.alpha_list[i]\n",
        "            df_weak.iloc[:,i] = y_pred\n",
        "\n",
        "        y_pred = (1 * np.sign(df_weak.T.sum())).astype(int)\n",
        "        return y_pred\n",
        "\n",
        "class MultiClassAdaBoost():\n",
        "    def __init__(self, n_clf=5,num_iter=100):\n",
        "        self.n_clf = n_clf\n",
        "        self.num_iter = num_iter\n",
        "        self.classifiers = {}\n",
        "\n",
        "    def fit(self, X, y):\n",
        "        numbers = np.unique(y)\n",
        "        for i, number in enumerate(numbers):\n",
        "            binary_y = np.where(y == number, 1, -1)\n",
        "            boost = AdaBoost(num_iter=self.num_iter)\n",
        "            boost.fit(X, binary_y)\n",
        "            self.classifiers[number] = boost\n",
        "\n",
        "    def predict(self, X):\n",
        "        predictions = []\n",
        "        for label, classifier in self.classifiers.items():\n",
        "            predictions.append(classifier.predict(X))\n",
        "        predictions = np.array(predictions)\n",
        "        return np.argmax(predictions, axis=0)\n",
        "\n",
        "from sklearn.tree import DecisionTreeClassifier\n",
        "mnist = load_digits()\n",
        "X_train, X_test, y_train, y_test = train_test_split(mnist.data, mnist.target, test_size=0.25, random_state=0)\n",
        "\n",
        "\n",
        "#Defaults\n",
        "print(\"Defaults\")\n",
        "model = MultiClassAdaBoost(n_clf=5,num_iter=500)\n",
        "model.fit(X_train,y_train)\n",
        "y_pred_train = model.predict(X_train)\n",
        "y_pred_test = model.predict(X_test)\n",
        "print(\"Train Accuracy:\",accuracy_score(y_train,y_pred_train))\n",
        "print(\"Test Accuracy:\",accuracy_score(y_test,y_pred_test))"
      ],
      "metadata": {
        "colab": {
          "base_uri": "https://localhost:8080/"
        },
        "id": "TJlTOdIwYVl2",
        "outputId": "1e9e0658-7e55-4047-8e7e-2701a6ceff5f"
      },
      "execution_count": 2,
      "outputs": [
        {
          "output_type": "stream",
          "name": "stdout",
          "text": [
            "Defaults\n",
            "Train Accuracy: 1.0\n",
            "Test Accuracy: 0.9088888888888889\n"
          ]
        }
      ]
    },
    {
      "cell_type": "code",
      "source": [
        "#AdaBoost Parameter Testing\n",
        "\n",
        "num_iter_list = [100,200,300,400,500,600,700,800,900,1000]\n",
        "bestScore = {\"num_iter\":0,\"accuracy\":0}\n",
        "\n",
        "y_axis = []\n",
        "for iter in num_iter_list:\n",
        "    test_clf = MultiClassAdaBoost(num_iter=iter)\n",
        "    test_clf.fit(X_train,y_train)\n",
        "    y_pred_comparison = test_clf.predict(X_test)\n",
        "    print(\"number of iterations:\",iter,\"Accuracy:\",sklearn.metrics.accuracy_score(y_test,y_pred_comparison))\n",
        "    if(sklearn.metrics.accuracy_score(y_test, y_pred_comparison) > bestScore[\"accuracy\"]):\n",
        "        bestScore[\"num_iter\"] = iter\n",
        "        bestScore[\"accuracy\"] = sklearn.metrics.accuracy_score(y_test, y_pred_comparison)\n",
        "\n",
        "    y_axis.append(sklearn.metrics.accuracy_score(y_test,y_pred_comparison))\n",
        "plt.plot(num_iter_list, y_axis)\n",
        "plt.title(\"Accuracy per n Iterations\")\n",
        "plt.xlabel(\"Number of Iterations\")\n",
        "plt.ylabel(\"Test Accuracy\")\n",
        "plt.show()\n",
        "\n",
        "print(bestScore)"
      ],
      "metadata": {
        "id": "0c6F3gt9YYEK"
      },
      "execution_count": null,
      "outputs": []
    },
    {
      "cell_type": "code",
      "source": [
        "#Other Metrics\n",
        "\n",
        "print(\"Recall:\",recall_score(y_test,y_pred_test,average=\"macro\"))\n",
        "print(\"Precision:\",precision_score(y_test,y_pred_test,average=\"macro\"))\n",
        "print(\"F1 Score:\",f1_score(y_test,y_pred_test,average=\"macro\"))\n",
        "confusionMatrix = (confusion_matrix(y_test,y_pred_test))\n",
        "print(sns.heatmap(confusionMatrix, annot=True,cmap=\"Blues\"))"
      ],
      "metadata": {
        "colab": {
          "base_uri": "https://localhost:8080/",
          "height": 503
        },
        "id": "m60fTie8YzJ9",
        "outputId": "969de6bd-dd53-4aad-96ff-5cb26df02c73"
      },
      "execution_count": 14,
      "outputs": [
        {
          "output_type": "stream",
          "name": "stdout",
          "text": [
            "Recall: 0.9123785949185701\n",
            "Precision: 0.9307235326480849\n",
            "F1 Score: 0.9113927288234329\n",
            "Axes(0.125,0.11;0.62x0.77)\n"
          ]
        },
        {
          "output_type": "display_data",
          "data": {
            "text/plain": [
              "<Figure size 640x480 with 2 Axes>"
            ],
            "image/png": "[encoded data removed]"
          },
          "metadata": {}
        }
      ]
    }
  ]
}